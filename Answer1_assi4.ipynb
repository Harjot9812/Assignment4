{
 "cells": [
  {
   "cell_type": "code",
   "execution_count": 1,
   "metadata": {},
   "outputs": [],
   "source": [
    "#Ques 1\n",
    "\n",
    "#In Ch. 6, two important algorithms are introduced, and they are minimax\n",
    "#search algorithm (Ch.6.2.1) and alpha-beta pruning (Ch.6.2.3). Study the\n",
    "#pseudo code provided (Fig. 6.3 and Fig.6.7), and implement these two algorithms."
   ]
  },
  {
   "cell_type": "code",
   "execution_count": null,
   "metadata": {},
   "outputs": [],
   "source": [
    "#miniMax ALgo\n"
   ]
  },
  {
   "cell_type": "code",
   "execution_count": 10,
   "metadata": {},
   "outputs": [],
   "source": [
    "import math"
   ]
  },
  {
   "cell_type": "code",
   "execution_count": 11,
   "metadata": {},
   "outputs": [
    {
     "name": "stdout",
     "output_type": "stream",
     "text": [
      "The optimal value of the scores is : 3\n"
     ]
    }
   ],
   "source": [
    "\n",
    "\n",
    "def minimax (curDepth, nodeIndex,\n",
    "\t\t\tmaxTurn, scores,\n",
    "\t\t\ttargetDepth):\n",
    "\n",
    "\t# base case : targetDepth reached\n",
    "\tif (curDepth == targetDepth):\n",
    "\t\treturn scores[nodeIndex]\n",
    "\t\n",
    "\tif (maxTurn):\n",
    "\t\treturn max(minimax(curDepth + 1, nodeIndex * 2,False, scores, targetDepth), \n",
    "                   minimax(curDepth + 1, nodeIndex * 2 + 1,False, scores, targetDepth))\n",
    "\t\n",
    "\telse:\n",
    "\t\treturn min(minimax(curDepth + 1, nodeIndex * 2,True, scores, targetDepth),\n",
    "\t\t\t\tminimax(curDepth + 1, nodeIndex * 2 + 1,True, scores, targetDepth))\n",
    "\t\n",
    "# Driver code\n",
    "scores = [3,12,8,2,4,6,14,5,2]\n",
    "\n",
    "treeDepth = math.log(len(scores), 3)\n",
    "\n",
    "print(\"The optimal value of the scores is : \", end = \"\")\n",
    "print(minimax(0, 0, True, scores, treeDepth))\n",
    "\n"
   ]
  },
  {
   "cell_type": "code",
   "execution_count": null,
   "metadata": {},
   "outputs": [],
   "source": [
    "#4ply"
   ]
  },
  {
   "cell_type": "code",
   "execution_count": 12,
   "metadata": {},
   "outputs": [
    {
     "name": "stdout",
     "output_type": "stream",
     "text": [
      "The optimal value of the scores is  : 8\n"
     ]
    }
   ],
   "source": [
    "\n",
    "def minimax (curDepth, nodeIndex,\n",
    "\t\t\tmaxTurn, scores,\n",
    "\t\t\ttargetDepth):\n",
    "\n",
    "\t# base case : targetDepth reached\n",
    "\tif (curDepth == targetDepth):\n",
    "\t\treturn scores[nodeIndex]\n",
    "\t\n",
    "\tif (maxTurn):\n",
    "\t\treturn max(minimax(curDepth + 1, nodeIndex * 2,\n",
    "\t\t\t\t\tFalse, scores, targetDepth),\n",
    "\t\t\t\tminimax(curDepth + 1, nodeIndex * 2 + 1,\n",
    "\t\t\t\t\tFalse, scores, targetDepth))\n",
    "\t\n",
    "\telse:\n",
    "\t\treturn min(minimax(curDepth + 1, nodeIndex * 2,\n",
    "\t\t\t\t\tTrue, scores, targetDepth),\n",
    "\t\t\t\tminimax(curDepth + 1, nodeIndex * 2 + 1,\n",
    "\t\t\t\t\tTrue, scores, targetDepth))\n",
    "\t\n",
    "# Driver code\n",
    "scores = [5,1,8,2,4,8,14,5,2,3,12,5,1,8,8,9,5,2,3,10,8,2,4,6,14,5,2]\n",
    "\n",
    "treeDepth = math.log(len(scores), 3)\n",
    "\n",
    "print(\"The optimal value of the scores is  : \", end = \"\")\n",
    "print(minimax(0, 0, True, scores, treeDepth))\n",
    "\n",
    "\n"
   ]
  },
  {
   "cell_type": "code",
   "execution_count": null,
   "metadata": {},
   "outputs": [],
   "source": [
    "#aplha beta pruning \n",
    "#2ply"
   ]
  },
  {
   "cell_type": "code",
   "execution_count": 13,
   "metadata": {},
   "outputs": [
    {
     "name": "stdout",
     "output_type": "stream",
     "text": [
      "The optimal value is : 3\n"
     ]
    }
   ],
   "source": [
    "\n",
    "\n",
    "# Initial values of Alpha and Beta\n",
    "MAX, MIN = 1000, -1000\n",
    "\n",
    "# Returns optimal value for current player\n",
    "#(Initially called for root and maximizer)\n",
    "def minimax(depth, nodeIndex, maximizingPlayer,\n",
    "\t\t\tvalues, alpha, beta):\n",
    "\n",
    "\t# Terminating condition. i.e\n",
    "\t# leaf node is reached\n",
    "\tif depth == 3:\n",
    "\t\treturn values[nodeIndex]\n",
    "\n",
    "\tif maximizingPlayer:\n",
    "\t\n",
    "\t\tbest = MIN\n",
    "\n",
    "\t\t# Recur for left and right children\n",
    "\t\tfor i in range(0, 2):\n",
    "\t\t\t\n",
    "\t\t\tval = minimax(depth + 1, nodeIndex * 2 + i,\n",
    "\t\t\t\t\t\tFalse, values, alpha, beta)\n",
    "\t\t\tbest = max(best, val)\n",
    "\t\t\talpha = max(alpha, best)\n",
    "\n",
    "\t\t\t# Alpha Beta Pruning\n",
    "\t\t\tif beta <= alpha:\n",
    "\t\t\t\tbreak\n",
    "\t\t\n",
    "\t\treturn best\n",
    "\t\n",
    "\telse:\n",
    "\t\tbest = MAX\n",
    "\n",
    "\t\t# Recur for left and\n",
    "\t\t# right children\n",
    "\t\tfor i in range(0, 2):\n",
    "\t\t\n",
    "\t\t\tval = minimax(depth + 1, nodeIndex * 2 + i,\n",
    "\t\t\t\t\t\t\tTrue, values, alpha, beta)\n",
    "\t\t\tbest = min(best, val)\n",
    "\t\t\tbeta = min(beta, best)\n",
    "\n",
    "\t\t\t# Alpha Beta Pruning\n",
    "\t\t\tif beta <= alpha:\n",
    "\t\t\t\tbreak\n",
    "\t\t\n",
    "\t\treturn best\n",
    "\t\n",
    "# Driver Code\n",
    "if __name__ == \"__main__\":\n",
    "\n",
    "\tvalues = [3,12,1,2,3,1,14,5,2]\n",
    "\tprint(\"The optimal value is :\", minimax(0, 0, True, values, MIN, MAX))\n",
    "\t\n",
    "\n"
   ]
  },
  {
   "cell_type": "code",
   "execution_count": null,
   "metadata": {},
   "outputs": [],
   "source": [
    "#4ply"
   ]
  },
  {
   "cell_type": "code",
   "execution_count": 14,
   "metadata": {},
   "outputs": [
    {
     "name": "stdout",
     "output_type": "stream",
     "text": [
      "The optimal value is : 8\n"
     ]
    }
   ],
   "source": [
    "\n",
    "MAX, MIN = 1000, -1000\n",
    "\n",
    "# Returns optimal value for current player\n",
    "#(Initially called for root and maximizer)\n",
    "def minimax(depth, nodeIndex, maximizingPlayer,\n",
    "\t\t\tvalues, alpha, beta):\n",
    "\n",
    "\t# Terminating condition. i.e\n",
    "\t# leaf node is reached\n",
    "\tif depth == 3:\n",
    "\t\treturn values[nodeIndex]\n",
    "\n",
    "\tif maximizingPlayer:\n",
    "\t\n",
    "\t\tbest = MIN\n",
    "\n",
    "\t\t# Recur for left and right children\n",
    "\t\tfor i in range(0, 2):\n",
    "\t\t\t\n",
    "\t\t\tval = minimax(depth + 1, nodeIndex * 2 + i,\n",
    "\t\t\t\t\t\tFalse, values, alpha, beta)\n",
    "\t\t\tbest = max(best, val)\n",
    "\t\t\talpha = max(alpha, best)\n",
    "\n",
    "\t\t\t# Alpha Beta Pruning\n",
    "\t\t\tif beta <= alpha:\n",
    "\t\t\t\tbreak\n",
    "\t\t\n",
    "\t\treturn best\n",
    "\t\n",
    "\telse:\n",
    "\t\tbest = MAX\n",
    "\n",
    "\t\t# Recur for left and\n",
    "\t\t# right children\n",
    "\t\tfor i in range(0, 2):\n",
    "\t\t\n",
    "\t\t\tval = minimax(depth + 1, nodeIndex * 2 + i,\n",
    "\t\t\t\t\t\t\tTrue, values, alpha, beta)\n",
    "\t\t\tbest = min(best, val)\n",
    "\t\t\tbeta = min(beta, best)\n",
    "\n",
    "\t\t\t# Alpha Beta Pruning\n",
    "\t\t\tif beta <= alpha:\n",
    "\t\t\t\tbreak\n",
    "\t\t\n",
    "\t\treturn best\n",
    "\t\n",
    "# Driver Code\n",
    "if __name__ == \"__main__\":\n",
    "\n",
    "\tvalues = [5,1,8,2,4,8,14,5,2,3,12,5,1,8,8,9,5,2,3,10,8,2,4,6,14,5,2]\n",
    "\tprint(\"The optimal value is :\", minimax(0, 0, True, values, MIN, MAX))\n",
    "\t\n",
    "\n"
   ]
  },
  {
   "cell_type": "code",
   "execution_count": null,
   "metadata": {},
   "outputs": [],
   "source": []
  }
 ],
 "metadata": {
  "kernelspec": {
   "display_name": "Python 3",
   "language": "python",
   "name": "python3"
  },
  "language_info": {
   "codemirror_mode": {
    "name": "ipython",
    "version": 3
   },
   "file_extension": ".py",
   "mimetype": "text/x-python",
   "name": "python",
   "nbconvert_exporter": "python",
   "pygments_lexer": "ipython3",
   "version": "3.8.5"
  }
 },
 "nbformat": 4,
 "nbformat_minor": 4
}
